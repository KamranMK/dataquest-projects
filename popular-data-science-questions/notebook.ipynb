{
 "cells": [
  {
   "cell_type": "markdown",
   "metadata": {},
   "source": [
    "# Popular Data Science Questions\n",
    "\n",
    "In this project we are working for a company that creates data science content, be it books, online articles, videos or interactive text-based platforms like Dataquest.\n",
    "\n",
    "We are tasked with figuring out what is best content to write about. Because we took this course, we know that given the lack of instructions there's some leeway in what \"best\" means here. Since we're passionate about helping people learn, we decide to scower the internet in search for the answer to the question \"What is it that people want to learn about in data science?\" (as opposed to determining the most profitable content, for instance).\n",
    "\n",
    "Looking back to our first experience of learning programming we realize that [StackOverflow](https://stackoverflow.com/) is the most popular place where programmers share and ask data science/programming related questions. We also know that Stackoverflow is part of the network of websites called [StackExchange](https://en.wikipedia.org/wiki/Stack_Exchange).\n",
    "\n",
    "**Disclaimer:** This project is part of the guided project for a Data Scientist Path on [dataquest.io](https://dataquest.io/). Content is provided by dataquest while code solutions are my own effort."
   ]
  },
  {
   "cell_type": "markdown",
   "metadata": {},
   "source": [
    "## Introduction\n",
    "\n",
    "StackExchange hosts multiple websites in various fields such as mathematics, physics, philosophy, and [data science](https://datascience.stackexchange.com/)!\n",
    "\n",
    "[Here](https://stackexchange.com/sites?view=list#percentanswered) are the all the sites under the umbrella of StackExchange.\n",
    "\n",
    "Stack Exchange employs a reputation award system for its questions and answers. Each post — each question/answer — is a post that is subject to upvotes and downvotes. This ensures that good posts are easily identifiable.\n",
    "\n",
    "If you're not familiar with Stack Overflow or any other Stack Exchange site, you can check out this [tour](https://stackexchange.com/tour).\n",
    "\n",
    "Being a multidisciplinary field, there a few Stack Exchange websites there are relevant to our goal here:\n",
    "* [Data Science](https://datascience.stackexchange.com/)\n",
    "* [Cross Validated](https://stats.stackexchange.com/) — a statistics site\n",
    "* [Artificial Intelligence](https://ai.stackexchange.com/)\n",
    "* [Mathematics](https://math.stackexchange.com/)\n",
    "* [Stack Overflow](https://stackoverflow.com/)\n",
    "\n",
    "And if we want to include Data Engineering, we can also consider:\n",
    "\n",
    "* [Database Administrators](https://dba.stackexchange.com/)\n",
    "* [Unix & Linux](https://unix.stackexchange.com/)\n",
    "* [Software Engineering](https://softwareengineering.stackexchange.com/)\n",
    "\n",
    "Out of all the websites, Data Science Stack Exchange (DSSE) website is the ideal candidate for the purposes of this analysis.\n",
    "\n",
    "## Getting familiar with DSSE\n",
    "\n",
    "Let's answer some questions and get familiar with DSSE\n",
    "\n",
    "> What kind of questions are welcome on this site?\n",
    "> > Questions regarding statistical learning, maching learning, specifics of certain algorithms and their implementations and pretty much everything data science related\n",
    "\n",
    "> What, other than questions, does the site's home subdivide into?\n",
    "> > Homepage also contains info on users, tags and unanswered questions. Listing Tags could be useful for our analysis\n",
    "\n",
    "> What information is available in each post?\n",
    "> > Each post contains the main question, the user who posted and tags associated and responses to the answers along with comments. The post also contains the votes on a questions as well as on the answers. The post also contains how many times the question was viewed and when it was posted. We ca \n",
    "\n",
    "If we roam around the website we can see that tags section contains each individual tag as well as number of questions with that tag. We can use this information to categorize the content.\n",
    "\n",
    "To get started, we could use web scraping but there is an easier alternative. Stack Exchange provides a public data base for each of its websites. [Here's](https://data.stackexchange.com/datascience/query/new) a link to query and explore Data Science Stack Exchange's database. \n",
    "You can read more about Stack Exchange Data Explorer (SEDE) on its [help section](https://data.stackexchange.com/help) and on [this](https://data.stackexchange.com/tutorial) tutorial link."
   ]
  },
  {
   "cell_type": "markdown",
   "metadata": {},
   "source": [
    "## Exploring the Data Model\n",
    "\n",
    "We can use the query tool to get the information we need. Note that SEDE uses a different dialect ([Transact-SQL](https://en.wikipedia.org/wiki/Transact-SQL) — Microsoft's SQL) than SQLite.\n",
    "\n",
    "We can try to run this query and check the top 10 tags by count.\n",
    "\n",
    "```sql\n",
    "SELECT TOP 10 *\n",
    "  FROM tags\n",
    " ORDER BY Count DESC;\n",
    "```\n",
    "\n",
    "Let's explore the DSSE's data model.\n",
    "\n",
    "The `Posts` table seems quite interesting but there are quite a lot of columns. \n",
    "For our purpose we only need\n",
    "* `Id` - Unique identifier for a post.\n",
    "* `PostTypeId` - Unique identifier for type of post.\n",
    "* `CreationDate` - The date and time of creation of the post.\n",
    "* `Score` - Post's score\n",
    "* `ViewCount` - Number of times the post was viewed.\n",
    "* `Tags` - list of tags associated with the post.\n",
    "* `AnswerCount` - number of answers on a post (only for question posts)\n",
    "* `FavoriteCount` - How many times the question was [favored](https://meta.stackexchange.com/questions/53585/how-do-favorite-questions-work) (only applicable to question posts).\n",
    "\n",
    "The last two columns provide information on the popularity of posts. This is something we can use.\n",
    "\n",
    "Before that let's also check the types of posts available and which ones would be relevant for us.\n",
    "\n",
    "```sql\n",
    "SELECT p.PostTypeId, t.Name, COUNT(*) as NrOfPosts\n",
    "  FROM posts as p\n",
    "  INNER JOIN PostTypes as t on\n",
    "    t.Id = p.PostTypeId\n",
    " GROUP BY p.PostTypeId, t.Name\n",
    " ORDER BY NrOfPosts DESC;\n",
    "```\n",
    "\n",
    "Due to volume we will ignore anything that is not a question or answer. Assuming on average each question has an answer we can simply focus on questions.\n",
    "We will also limit the scope to looking at questions in 2019. Let's extract all columns indicated above for questions asked in 2019.\n",
    "\n",
    "```sql\n",
    "SELECT\n",
    "    p.Id,\n",
    "    p.PostTypeId,\n",
    "    p.CreationDate,\n",
    "    p.Score,\n",
    "    p.ViewCount,\n",
    "    p.Tags,\n",
    "    p.AnswerCount,\n",
    "    p.FavoriteCount\n",
    "FROM\n",
    "    Posts as p\n",
    "INNER JOIN PostTypes as t on\n",
    "    t.Id = p.PostTypeId\n",
    "WHERE 1=1\n",
    "    AND t.Id = 1\n",
    "    AND YEAR(p.CreationDate) = 2019\n",
    "```\n",
    "\n",
    "We will extract the results into a csv file called `2019_questions.csv`\n",
    "\n",
    "## Data Exploration\n",
    "\n",
    "Let's load the dataset and explore it."
   ]
  },
  {
   "cell_type": "code",
   "execution_count": 234,
   "metadata": {},
   "outputs": [
    {
     "data": {
      "text/html": [
       "<div>\n",
       "<style scoped>\n",
       "    .dataframe tbody tr th:only-of-type {\n",
       "        vertical-align: middle;\n",
       "    }\n",
       "\n",
       "    .dataframe tbody tr th {\n",
       "        vertical-align: top;\n",
       "    }\n",
       "\n",
       "    .dataframe thead th {\n",
       "        text-align: right;\n",
       "    }\n",
       "</style>\n",
       "<table border=\"1\" class=\"dataframe\">\n",
       "  <thead>\n",
       "    <tr style=\"text-align: right;\">\n",
       "      <th></th>\n",
       "      <th>Id</th>\n",
       "      <th>CreationDate</th>\n",
       "      <th>Score</th>\n",
       "      <th>ViewCount</th>\n",
       "      <th>Tags</th>\n",
       "      <th>AnswerCount</th>\n",
       "      <th>FavoriteCount</th>\n",
       "    </tr>\n",
       "  </thead>\n",
       "  <tbody>\n",
       "    <tr>\n",
       "      <th>0</th>\n",
       "      <td>44419</td>\n",
       "      <td>2019-01-23 09:21:13</td>\n",
       "      <td>1</td>\n",
       "      <td>21</td>\n",
       "      <td>&lt;machine-learning&gt;&lt;data-mining&gt;</td>\n",
       "      <td>0</td>\n",
       "      <td>NaN</td>\n",
       "    </tr>\n",
       "    <tr>\n",
       "      <th>1</th>\n",
       "      <td>44420</td>\n",
       "      <td>2019-01-23 09:34:01</td>\n",
       "      <td>0</td>\n",
       "      <td>25</td>\n",
       "      <td>&lt;machine-learning&gt;&lt;regression&gt;&lt;linear-regressi...</td>\n",
       "      <td>0</td>\n",
       "      <td>NaN</td>\n",
       "    </tr>\n",
       "    <tr>\n",
       "      <th>2</th>\n",
       "      <td>44423</td>\n",
       "      <td>2019-01-23 09:58:41</td>\n",
       "      <td>2</td>\n",
       "      <td>1651</td>\n",
       "      <td>&lt;python&gt;&lt;time-series&gt;&lt;forecast&gt;&lt;forecasting&gt;</td>\n",
       "      <td>0</td>\n",
       "      <td>NaN</td>\n",
       "    </tr>\n",
       "    <tr>\n",
       "      <th>3</th>\n",
       "      <td>44427</td>\n",
       "      <td>2019-01-23 10:57:09</td>\n",
       "      <td>0</td>\n",
       "      <td>55</td>\n",
       "      <td>&lt;machine-learning&gt;&lt;scikit-learn&gt;&lt;pca&gt;</td>\n",
       "      <td>1</td>\n",
       "      <td>NaN</td>\n",
       "    </tr>\n",
       "    <tr>\n",
       "      <th>4</th>\n",
       "      <td>44428</td>\n",
       "      <td>2019-01-23 11:02:15</td>\n",
       "      <td>0</td>\n",
       "      <td>19</td>\n",
       "      <td>&lt;dataset&gt;&lt;bigdata&gt;&lt;data&gt;&lt;speech-to-text&gt;</td>\n",
       "      <td>0</td>\n",
       "      <td>NaN</td>\n",
       "    </tr>\n",
       "  </tbody>\n",
       "</table>\n",
       "</div>"
      ],
      "text/plain": [
       "      Id        CreationDate  Score  ViewCount  \\\n",
       "0  44419 2019-01-23 09:21:13      1         21   \n",
       "1  44420 2019-01-23 09:34:01      0         25   \n",
       "2  44423 2019-01-23 09:58:41      2       1651   \n",
       "3  44427 2019-01-23 10:57:09      0         55   \n",
       "4  44428 2019-01-23 11:02:15      0         19   \n",
       "\n",
       "                                                Tags  AnswerCount  \\\n",
       "0                    <machine-learning><data-mining>            0   \n",
       "1  <machine-learning><regression><linear-regressi...            0   \n",
       "2       <python><time-series><forecast><forecasting>            0   \n",
       "3              <machine-learning><scikit-learn><pca>            1   \n",
       "4           <dataset><bigdata><data><speech-to-text>            0   \n",
       "\n",
       "   FavoriteCount  \n",
       "0            NaN  \n",
       "1            NaN  \n",
       "2            NaN  \n",
       "3            NaN  \n",
       "4            NaN  "
      ]
     },
     "execution_count": 234,
     "metadata": {},
     "output_type": "execute_result"
    }
   ],
   "source": [
    "import pandas as pd\n",
    "import numpy as np\n",
    "import matplotlib.pyplot as plt\n",
    "\n",
    "# read the dataset\n",
    "df = pd.read_csv(\"2019_questions.csv\", parse_dates=[\"CreationDate\"])\n",
    "\n",
    "# view the first few rows\n",
    "df.head()"
   ]
  },
  {
   "cell_type": "code",
   "execution_count": 235,
   "metadata": {},
   "outputs": [
    {
     "data": {
      "text/plain": [
       "Id                  0\n",
       "CreationDate        0\n",
       "Score               0\n",
       "ViewCount           0\n",
       "Tags                0\n",
       "AnswerCount         0\n",
       "FavoriteCount    7432\n",
       "dtype: int64"
      ]
     },
     "execution_count": 235,
     "metadata": {},
     "output_type": "execute_result"
    }
   ],
   "source": [
    "# check missing values in each column\n",
    "df.isnull().sum()"
   ]
  },
  {
   "cell_type": "markdown",
   "metadata": {},
   "source": [
    "There are many missing values in `FavoriteCount` column. Since `FavoriteCount` contains the number of times the question has been favored, we can safely assume missing values being 0."
   ]
  },
  {
   "cell_type": "code",
   "execution_count": 236,
   "metadata": {},
   "outputs": [
    {
     "data": {
      "text/plain": [
       "Id                        int64\n",
       "CreationDate     datetime64[ns]\n",
       "Score                     int64\n",
       "ViewCount                 int64\n",
       "Tags                     object\n",
       "AnswerCount               int64\n",
       "FavoriteCount             int64\n",
       "dtype: object"
      ]
     },
     "execution_count": 236,
     "metadata": {},
     "output_type": "execute_result"
    }
   ],
   "source": [
    "# fill missing values of FavoriteCount colum and convert to correct datatype\n",
    "df[\"FavoriteCount\"] = df[\"FavoriteCount\"].fillna(0).astype('int64')\n",
    "\n",
    "# Let's check the types\n",
    "df.dtypes"
   ]
  },
  {
   "cell_type": "markdown",
   "metadata": {},
   "source": [
    "Let's look at the tags column and decide what to do with it."
   ]
  },
  {
   "cell_type": "code",
   "execution_count": 237,
   "metadata": {},
   "outputs": [
    {
     "data": {
      "text/plain": [
       "0                      <machine-learning><data-mining>\n",
       "1    <machine-learning><regression><linear-regressi...\n",
       "2         <python><time-series><forecast><forecasting>\n",
       "3                <machine-learning><scikit-learn><pca>\n",
       "4             <dataset><bigdata><data><speech-to-text>\n",
       "Name: Tags, dtype: object"
      ]
     },
     "execution_count": 237,
     "metadata": {},
     "output_type": "execute_result"
    }
   ],
   "source": [
    "df[\"Tags\"].head()"
   ]
  },
  {
   "cell_type": "markdown",
   "metadata": {},
   "source": [
    "The `Tags` column has list of tags which we will clean and convert to a list of tags"
   ]
  },
  {
   "cell_type": "code",
   "execution_count": 238,
   "metadata": {},
   "outputs": [],
   "source": [
    "# clean tags\n",
    "df[\"Tags\"] = df[\"Tags\"].str.replace('<', '').str.replace('>', ' ').str.split()"
   ]
  },
  {
   "cell_type": "code",
   "execution_count": 239,
   "metadata": {},
   "outputs": [
    {
     "data": {
      "text/html": [
       "<div>\n",
       "<style scoped>\n",
       "    .dataframe tbody tr th:only-of-type {\n",
       "        vertical-align: middle;\n",
       "    }\n",
       "\n",
       "    .dataframe tbody tr th {\n",
       "        vertical-align: top;\n",
       "    }\n",
       "\n",
       "    .dataframe thead th {\n",
       "        text-align: right;\n",
       "    }\n",
       "</style>\n",
       "<table border=\"1\" class=\"dataframe\">\n",
       "  <thead>\n",
       "    <tr style=\"text-align: right;\">\n",
       "      <th></th>\n",
       "      <th>Id</th>\n",
       "      <th>CreationDate</th>\n",
       "      <th>Score</th>\n",
       "      <th>ViewCount</th>\n",
       "      <th>Tags</th>\n",
       "      <th>AnswerCount</th>\n",
       "      <th>FavoriteCount</th>\n",
       "    </tr>\n",
       "  </thead>\n",
       "  <tbody>\n",
       "    <tr>\n",
       "      <th>0</th>\n",
       "      <td>44419</td>\n",
       "      <td>2019-01-23 09:21:13</td>\n",
       "      <td>1</td>\n",
       "      <td>21</td>\n",
       "      <td>[machine-learning, data-mining]</td>\n",
       "      <td>0</td>\n",
       "      <td>0</td>\n",
       "    </tr>\n",
       "    <tr>\n",
       "      <th>1</th>\n",
       "      <td>44420</td>\n",
       "      <td>2019-01-23 09:34:01</td>\n",
       "      <td>0</td>\n",
       "      <td>25</td>\n",
       "      <td>[machine-learning, regression, linear-regressi...</td>\n",
       "      <td>0</td>\n",
       "      <td>0</td>\n",
       "    </tr>\n",
       "    <tr>\n",
       "      <th>2</th>\n",
       "      <td>44423</td>\n",
       "      <td>2019-01-23 09:58:41</td>\n",
       "      <td>2</td>\n",
       "      <td>1651</td>\n",
       "      <td>[python, time-series, forecast, forecasting]</td>\n",
       "      <td>0</td>\n",
       "      <td>0</td>\n",
       "    </tr>\n",
       "    <tr>\n",
       "      <th>3</th>\n",
       "      <td>44427</td>\n",
       "      <td>2019-01-23 10:57:09</td>\n",
       "      <td>0</td>\n",
       "      <td>55</td>\n",
       "      <td>[machine-learning, scikit-learn, pca]</td>\n",
       "      <td>1</td>\n",
       "      <td>0</td>\n",
       "    </tr>\n",
       "    <tr>\n",
       "      <th>4</th>\n",
       "      <td>44428</td>\n",
       "      <td>2019-01-23 11:02:15</td>\n",
       "      <td>0</td>\n",
       "      <td>19</td>\n",
       "      <td>[dataset, bigdata, data, speech-to-text]</td>\n",
       "      <td>0</td>\n",
       "      <td>0</td>\n",
       "    </tr>\n",
       "  </tbody>\n",
       "</table>\n",
       "</div>"
      ],
      "text/plain": [
       "      Id        CreationDate  Score  ViewCount  \\\n",
       "0  44419 2019-01-23 09:21:13      1         21   \n",
       "1  44420 2019-01-23 09:34:01      0         25   \n",
       "2  44423 2019-01-23 09:58:41      2       1651   \n",
       "3  44427 2019-01-23 10:57:09      0         55   \n",
       "4  44428 2019-01-23 11:02:15      0         19   \n",
       "\n",
       "                                                Tags  AnswerCount  \\\n",
       "0                    [machine-learning, data-mining]            0   \n",
       "1  [machine-learning, regression, linear-regressi...            0   \n",
       "2       [python, time-series, forecast, forecasting]            0   \n",
       "3              [machine-learning, scikit-learn, pca]            1   \n",
       "4           [dataset, bigdata, data, speech-to-text]            0   \n",
       "\n",
       "   FavoriteCount  \n",
       "0              0  \n",
       "1              0  \n",
       "2              0  \n",
       "3              0  \n",
       "4              0  "
      ]
     },
     "execution_count": 239,
     "metadata": {},
     "output_type": "execute_result"
    }
   ],
   "source": [
    "df.head()"
   ]
  },
  {
   "cell_type": "markdown",
   "metadata": {},
   "source": [
    "## Determine Most Popular Tags\n",
    "\n",
    "We'll do so by considering two different popularity proxies: for each tag we'll count how many times the tag was used, and how many times a question with that tag was viewed."
   ]
  },
  {
   "cell_type": "code",
   "execution_count": 240,
   "metadata": {},
   "outputs": [],
   "source": [
    "# create a single list of all tags\n",
    "all_tags = [tag for items in df[\"Tags\"].tolist() for tag in items]\n",
    "\n",
    "# generate frequency distribution\n",
    "tag_counts = {tag: all_tags.count(tag) for tag in set(all_tags)}"
   ]
  },
  {
   "cell_type": "code",
   "execution_count": 241,
   "metadata": {},
   "outputs": [
    {
     "data": {
      "text/plain": [
       "175"
      ]
     },
     "execution_count": 241,
     "metadata": {},
     "output_type": "execute_result"
    }
   ],
   "source": [
    "tag_counts[\"pytorch\"]"
   ]
  },
  {
   "cell_type": "markdown",
   "metadata": {},
   "source": [
    "Since there are many tags specifically 526, let's look at top 20 tags and visualize them in a bar chart."
   ]
  },
  {
   "cell_type": "code",
   "execution_count": 242,
   "metadata": {},
   "outputs": [
    {
     "data": {
      "image/png": "[encoded data removed]",
      "text/plain": [
       "<Figure size 1296x360 with 1 Axes>"
      ]
     },
     "metadata": {
      "needs_background": "light"
     },
     "output_type": "display_data"
    }
   ],
   "source": [
    "# let's check the used top 10 tags from the dictionary\n",
    "top20_tags_counts = {k: v for k, v in sorted(tag_counts.items(), key=lambda x: x[1], reverse=True)[:20]}\n",
    "\n",
    "# visualize\n",
    "plt.bar(range(len(top20_tags_counts)), list(top20_tags_counts.values()), align='center', figure=plt.figure(figsize=(18, 9)))\n",
    "plt.xticks(range(len(top20_tags_counts)), list(top20_tags_counts.keys()), rotation=45, size=14)\n",
    "plt.show()"
   ]
  },
  {
   "cell_type": "markdown",
   "metadata": {},
   "source": [
    "Now that we have calculated tag usage, let's calculate how many times a tag was viewed."
   ]
  },
  {
   "cell_type": "code",
   "execution_count": 243,
   "metadata": {},
   "outputs": [],
   "source": [
    "# make a dictionary with all tags and 0 values\n",
    "all_tag_views = {tag: 0 for tag in tag_counts.keys()}\n",
    "\n",
    "# a function to count the tag view for each row\n",
    "def count_tag_view(df_row):\n",
    "    for tag in df_row[\"Tags\"]:\n",
    "        all_tag_views[tag] += df_row[\"ViewCount\"]\n",
    "        \n",
    "# apply the function to the dataframe\n",
    "none = df[[\"Tags\", \"ViewCount\"]].apply(count_tag_view, axis=1)"
   ]
  },
  {
   "cell_type": "code",
   "execution_count": 244,
   "metadata": {},
   "outputs": [
    {
     "data": {
      "image/png": "[encoded data removed]",
      "text/plain": [
       "<Figure size 1296x360 with 1 Axes>"
      ]
     },
     "metadata": {
      "needs_background": "light"
     },
     "output_type": "display_data"
    }
   ],
   "source": [
    "# sort the dicionary and also get top 20\n",
    "top20_tag_views = {k: v for k, v in sorted(all_tag_views.items(), key=lambda x: x[1], reverse=True)[:20]}\n",
    "\n",
    "# visualize\n",
    "plt.bar(range(len(top20_tag_views)), list(top20_tag_views.values()), align='center', figure=plt.figure(figsize=(18, 9)))\n",
    "plt.xticks(range(len(top20_tag_views)), list(top20_tag_views.keys()), rotation=45, size=14)\n",
    "plt.show()"
   ]
  },
  {
   "cell_type": "markdown",
   "metadata": {},
   "source": [
    "We can observe that the result is slight different but certain tags definitely come across in the top positions more than others.\n",
    "\n",
    "Next, lets compare the top 20 used and top 20 viewed tags."
   ]
  },
  {
   "cell_type": "code",
   "execution_count": 248,
   "metadata": {},
   "outputs": [
    {
     "data": {
      "text/html": [
       "<div>\n",
       "<style scoped>\n",
       "    .dataframe tbody tr th:only-of-type {\n",
       "        vertical-align: middle;\n",
       "    }\n",
       "\n",
       "    .dataframe tbody tr th {\n",
       "        vertical-align: top;\n",
       "    }\n",
       "\n",
       "    .dataframe thead th {\n",
       "        text-align: right;\n",
       "    }\n",
       "</style>\n",
       "<table border=\"1\" class=\"dataframe\">\n",
       "  <thead>\n",
       "    <tr style=\"text-align: right;\">\n",
       "      <th></th>\n",
       "      <th>most_used</th>\n",
       "      <th>most_viewed</th>\n",
       "    </tr>\n",
       "  </thead>\n",
       "  <tbody>\n",
       "    <tr>\n",
       "      <th>classification</th>\n",
       "      <td>685.0</td>\n",
       "      <td>104457.0</td>\n",
       "    </tr>\n",
       "    <tr>\n",
       "      <th>clustering</th>\n",
       "      <td>257.0</td>\n",
       "      <td>33928.0</td>\n",
       "    </tr>\n",
       "    <tr>\n",
       "      <th>cnn</th>\n",
       "      <td>489.0</td>\n",
       "      <td>70349.0</td>\n",
       "    </tr>\n",
       "    <tr>\n",
       "      <th>csv</th>\n",
       "      <td>NaN</td>\n",
       "      <td>38654.0</td>\n",
       "    </tr>\n",
       "    <tr>\n",
       "      <th>dataframe</th>\n",
       "      <td>NaN</td>\n",
       "      <td>89352.0</td>\n",
       "    </tr>\n",
       "    <tr>\n",
       "      <th>dataset</th>\n",
       "      <td>340.0</td>\n",
       "      <td>43151.0</td>\n",
       "    </tr>\n",
       "    <tr>\n",
       "      <th>deep-learning</th>\n",
       "      <td>1220.0</td>\n",
       "      <td>233628.0</td>\n",
       "    </tr>\n",
       "    <tr>\n",
       "      <th>keras</th>\n",
       "      <td>935.0</td>\n",
       "      <td>268608.0</td>\n",
       "    </tr>\n",
       "    <tr>\n",
       "      <th>lstm</th>\n",
       "      <td>402.0</td>\n",
       "      <td>74458.0</td>\n",
       "    </tr>\n",
       "    <tr>\n",
       "      <th>machine-learning</th>\n",
       "      <td>2693.0</td>\n",
       "      <td>388499.0</td>\n",
       "    </tr>\n",
       "    <tr>\n",
       "      <th>machine-learning-model</th>\n",
       "      <td>224.0</td>\n",
       "      <td>NaN</td>\n",
       "    </tr>\n",
       "    <tr>\n",
       "      <th>neural-network</th>\n",
       "      <td>1055.0</td>\n",
       "      <td>185367.0</td>\n",
       "    </tr>\n",
       "    <tr>\n",
       "      <th>nlp</th>\n",
       "      <td>493.0</td>\n",
       "      <td>71382.0</td>\n",
       "    </tr>\n",
       "    <tr>\n",
       "      <th>numpy</th>\n",
       "      <td>NaN</td>\n",
       "      <td>49767.0</td>\n",
       "    </tr>\n",
       "    <tr>\n",
       "      <th>pandas</th>\n",
       "      <td>354.0</td>\n",
       "      <td>201787.0</td>\n",
       "    </tr>\n",
       "    <tr>\n",
       "      <th>predictive-modeling</th>\n",
       "      <td>265.0</td>\n",
       "      <td>NaN</td>\n",
       "    </tr>\n",
       "    <tr>\n",
       "      <th>python</th>\n",
       "      <td>1814.0</td>\n",
       "      <td>537585.0</td>\n",
       "    </tr>\n",
       "    <tr>\n",
       "      <th>pytorch</th>\n",
       "      <td>NaN</td>\n",
       "      <td>40240.0</td>\n",
       "    </tr>\n",
       "    <tr>\n",
       "      <th>r</th>\n",
       "      <td>268.0</td>\n",
       "      <td>NaN</td>\n",
       "    </tr>\n",
       "    <tr>\n",
       "      <th>regression</th>\n",
       "      <td>347.0</td>\n",
       "      <td>49451.0</td>\n",
       "    </tr>\n",
       "    <tr>\n",
       "      <th>scikit-learn</th>\n",
       "      <td>540.0</td>\n",
       "      <td>128110.0</td>\n",
       "    </tr>\n",
       "    <tr>\n",
       "      <th>statistics</th>\n",
       "      <td>234.0</td>\n",
       "      <td>NaN</td>\n",
       "    </tr>\n",
       "    <tr>\n",
       "      <th>tensorflow</th>\n",
       "      <td>584.0</td>\n",
       "      <td>121369.0</td>\n",
       "    </tr>\n",
       "    <tr>\n",
       "      <th>time-series</th>\n",
       "      <td>466.0</td>\n",
       "      <td>64134.0</td>\n",
       "    </tr>\n",
       "  </tbody>\n",
       "</table>\n",
       "</div>"
      ],
      "text/plain": [
       "                        most_used  most_viewed\n",
       "classification              685.0     104457.0\n",
       "clustering                  257.0      33928.0\n",
       "cnn                         489.0      70349.0\n",
       "csv                           NaN      38654.0\n",
       "dataframe                     NaN      89352.0\n",
       "dataset                     340.0      43151.0\n",
       "deep-learning              1220.0     233628.0\n",
       "keras                       935.0     268608.0\n",
       "lstm                        402.0      74458.0\n",
       "machine-learning           2693.0     388499.0\n",
       "machine-learning-model      224.0          NaN\n",
       "neural-network             1055.0     185367.0\n",
       "nlp                         493.0      71382.0\n",
       "numpy                         NaN      49767.0\n",
       "pandas                      354.0     201787.0\n",
       "predictive-modeling         265.0          NaN\n",
       "python                     1814.0     537585.0\n",
       "pytorch                       NaN      40240.0\n",
       "r                           268.0          NaN\n",
       "regression                  347.0      49451.0\n",
       "scikit-learn                540.0     128110.0\n",
       "statistics                  234.0          NaN\n",
       "tensorflow                  584.0     121369.0\n",
       "time-series                 466.0      64134.0"
      ]
     },
     "execution_count": 248,
     "metadata": {},
     "output_type": "execute_result"
    }
   ],
   "source": [
    "# generate dataframes from dictionaries using tag as index\n",
    "most_used_df = pd.DataFrame.from_dict(top20_tags_counts, orient='index', columns=['most_used'])\n",
    "most_viewed_df = pd.DataFrame.from_dict(top20_tag_views, orient='index', columns=['most_viewed'])\n",
    "\n",
    "# merge two into one\n",
    "most_df = pd.merge(most_used_df, most_viewed_df, how='outer', left_index=True, right_index=True)\n",
    "\n",
    "# check the df\n",
    "most_df"
   ]
  },
  {
   "cell_type": "markdown",
   "metadata": {},
   "source": [
    "We can ovbserve that some tags have been extensively used but not viewed (e.g. machine-learning-model) and some viewed a lot but not used (e.g. pytorch). From the list above we can say that some tags are related for example python and pandas, since pandas is built in python and questions about pandas would involve python code. Same could be said about scikit-learn and python.\n",
    "\n",
    "To try to understand the relationship between tags we can have a look at top 20 used and viewed."
   ]
  },
  {
   "cell_type": "code",
   "execution_count": 249,
   "metadata": {},
   "outputs": [
    {
     "data": {
      "text/plain": [
       "{'machine-learning': 2693,\n",
       " 'python': 1814,\n",
       " 'deep-learning': 1220,\n",
       " 'neural-network': 1055,\n",
       " 'keras': 935,\n",
       " 'classification': 685,\n",
       " 'tensorflow': 584,\n",
       " 'scikit-learn': 540,\n",
       " 'nlp': 493,\n",
       " 'cnn': 489,\n",
       " 'time-series': 466,\n",
       " 'lstm': 402,\n",
       " 'pandas': 354,\n",
       " 'regression': 347,\n",
       " 'dataset': 340,\n",
       " 'r': 268,\n",
       " 'predictive-modeling': 265,\n",
       " 'clustering': 257,\n",
       " 'statistics': 234,\n",
       " 'machine-learning-model': 224}"
      ]
     },
     "execution_count": 249,
     "metadata": {},
     "output_type": "execute_result"
    }
   ],
   "source": [
    "top20_tags_counts"
   ]
  },
  {
   "cell_type": "code",
   "execution_count": 250,
   "metadata": {},
   "outputs": [
    {
     "data": {
      "text/plain": [
       "{'python': 537585,\n",
       " 'machine-learning': 388499,\n",
       " 'keras': 268608,\n",
       " 'deep-learning': 233628,\n",
       " 'pandas': 201787,\n",
       " 'neural-network': 185367,\n",
       " 'scikit-learn': 128110,\n",
       " 'tensorflow': 121369,\n",
       " 'classification': 104457,\n",
       " 'dataframe': 89352,\n",
       " 'lstm': 74458,\n",
       " 'nlp': 71382,\n",
       " 'cnn': 70349,\n",
       " 'time-series': 64134,\n",
       " 'numpy': 49767,\n",
       " 'regression': 49451,\n",
       " 'dataset': 43151,\n",
       " 'pytorch': 40240,\n",
       " 'csv': 38654,\n",
       " 'clustering': 33928}"
      ]
     },
     "execution_count": 250,
     "metadata": {},
     "output_type": "execute_result"
    }
   ],
   "source": [
    "top20_tag_views"
   ]
  },
  {
   "cell_type": "markdown",
   "metadata": {},
   "source": [
    "We can see that these tags are the same in both top 10 list, meaning they are top used and viewed:\n",
    "* machine-learning\n",
    "* deep-learning\n",
    "* neural-network\n",
    "* keras\n",
    "* tensorflow\n",
    "* scikit-learn\n",
    "* classification\n",
    "* python\n",
    "\n",
    "In reality these tags are super related since they all discuss a similar technology but from different perspectives. For example tensorflow or keras are deep-learning libraries for building dee neural networks. Scikit-learn is a python library that provides possibility to build neural networks for classification or other machine-learning tasks. \n",
    "\n",
    "Overall, we can get an impression that deep-learning seems to be an overarching topic that is quite popular on the DSSE. We can try to check whether deep-learning is a fad by looking at the questions from a temporal perspective. We have a `all_questions.csv` file which contains all questions asked on DSSE.\n",
    "\n",
    "We will try to track the interest in deep-learning across time. We plan to:\n",
    "* Count how many deep learning questions are asked per time period.\n",
    "* The total amount of questions per time period.\n",
    "* How many deep learning questions there are relative to the total amount of questions per time period.\n",
    "\n",
    "To perform the above operations we also need to define what question should be categorized as a deep-learning question. Based on our analysis of 2019, we can assume (using also our domain knowledge, and internet research) that deep-learning question would have at least one of these tags \n",
    "* deep-learning\n",
    "* keras\n",
    "* tensorflow\n",
    "* neural-network\n",
    "\n",
    "We also need to identify the adequate timeframe we want to track the interest for. It would be easier to read and understand if we do it a monthly basis across all the time."
   ]
  },
  {
   "cell_type": "code",
   "execution_count": 345,
   "metadata": {},
   "outputs": [],
   "source": [
    "# read dataset\n",
    "all_questions = pd.read_csv(\"all_questions.csv\", parse_dates=[\"CreationDate\"])\n",
    "\n",
    "# transform the tag column as we did before\n",
    "all_questions[\"Tags\"] = all_questions[\"Tags\"].str.replace('<', '').str.replace('>', ' ').str.split()\n",
    "\n",
    "# concept of deep-learning\n",
    "dlp_tags = [\"deep-learning\", \"keras\", \"tensorflow\", \"neural-network\"]\n",
    "\n",
    "# extract yearmonth\n",
    "all_questions[\"yearmonth\"] = all_questions[\"CreationDate\"].dt.strftime(\"%Y%m\")\n",
    "\n",
    "# categorize the question as a deep-learning question\n",
    "def categorize_dlp(row):\n",
    "    for x in row:\n",
    "        if str(x).strip() in dlp_tags:\n",
    "            return 1\n",
    "    return 0\n",
    "\n",
    "# apply the function\n",
    "all_questions[\"dlp_question\"] = all_questions[\"Tags\"].apply(categorize_dlp)\n",
    "\n",
    "# groupby yearmonth and count dlp questions\n",
    "dlp_overtime = all_questions[[\"yearmonth\", \"dlp_question\"]].groupby(\"yearmonth\").agg([\"count\", \"sum\"])\n",
    "\n",
    "# get rid of multi level index columns and reset index\n",
    "dlp_overtime.columns = dlp_overtime.columns.get_level_values(1)\n",
    "dlp_overtime.columns = [\"total_questions\", \"dlp_questions\"]\n",
    "dlp_overtime.reset_index(inplace=True)\n",
    "dlp_overtime[\"yearmonth\"] = dlp_overtime[\"yearmonth\"].astype('str')\n",
    "\n",
    "# calculate rate of dlp questions\n",
    "dlp_overtime[\"dlp_rate\"] = dlp_overtime[\"dlp_questions\"] / dlp_overtime[\"total_questions\"]"
   ]
  },
  {
   "cell_type": "code",
   "execution_count": 362,
   "metadata": {},
   "outputs": [
    {
     "data": {
      "image/png": "[encoded data removed]",
      "text/plain": [
       "<Figure size 1800x648 with 1 Axes>"
      ]
     },
     "metadata": {
      "needs_background": "light"
     },
     "output_type": "display_data"
    }
   ],
   "source": [
    "plt.plot(dlp_overtime[\"yearmonth\"], dlp_overtime[\"dlp_rate\"], figure=plt.figure(figsize=(25, 9)))\n",
    "plt.xticks(dlp_overtime[\"yearmonth\"], rotation=45, size=14)\n",
    "plt.show()"
   ]
  },
  {
   "cell_type": "markdown",
   "metadata": {},
   "source": [
    "# Conclusion & Summary\n",
    "\n",
    "We can observe that deep-learning topic has been a more of a recent topic of interest and more questions about the topic have started coming up past 2017. Thus we can conclude that deep-learning is popular today.\n",
    "\n",
    "We can further enhance our analysis by considering the following points\n",
    "* What other content can we recommend that isn't as popular? You can try using association rules to find strong relations between tags.\n",
    "* What other popularity features could we include in our analysis? Perhaps scores and favourite counts?\n",
    "* We focused on other DSSE. How could we use other related sites to help us with our goal?\n",
    "* How can we leverage other sites to determine what non-data-science content to write about? For example, is there some mathematical field that leads to more questions than others?\n",
    "\n",
    "The above points is something to consider to perform more of a deep-dive."
   ]
  },
  {
   "cell_type": "code",
   "execution_count": null,
   "metadata": {},
   "outputs": [],
   "source": []
  }
 ],
 "metadata": {
  "kernelspec": {
   "display_name": "Python 3",
   "language": "python",
   "name": "python3"
  },
  "language_info": {
   "codemirror_mode": {
    "name": "ipython",
    "version": 3
   },
   "file_extension": ".py",
   "mimetype": "text/x-python",
   "name": "python",
   "nbconvert_exporter": "python",
   "pygments_lexer": "ipython3",
   "version": "3.7.4"
  }
 },
 "nbformat": 4,
 "nbformat_minor": 4
}
