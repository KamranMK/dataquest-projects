{
 "cells": [
  {
   "cell_type": "markdown",
   "metadata": {
    "collapsed": true
   },
   "source": [
    "# Predicting Car Prices\n",
    "\n",
    "The goal of this project is to practice machine learning workflow by predicting car prices using dataset containing car characteristics. The dataset comes from the UCI's machine learning [repository](https://archive.ics.uci.edu/ml/datasets/automobile).\n",
    "\n",
    "**Disclaimer:** This project is part of the guided project for a Data Scientist Path on dataquest.io.\n",
    "\n",
    "## Introduction\n",
    "\n",
    "Let's first read the dataset and explore it to get a better understanding of it. Since the original dataset doesn't have column headers in it, we need to provide the list manually.\n",
    "\n",
    "The numeric feature columns in the dataset are:\n",
    "    * normalized-losses\n",
    "    * wheel-base\n",
    "    * length\n",
    "    * width\n",
    "    * height\n",
    "    * curb-weight\n",
    "    * engine-type\n",
    "    * num-of-cylinders\n",
    "    * engine-size\n",
    "    * bore\n",
    "    * stroke\n",
    "    * compression-rate\n",
    "    * horsepower\n",
    "    * peak-rpm\n",
    "    * city-mpg\n",
    "    * highway-mpg\n",
    "    \n",
    "The target column is `price`."
   ]
  },
  {
   "cell_type": "code",
   "execution_count": 116,
   "metadata": {
    "collapsed": false,
    "scrolled": true
   },
   "outputs": [
    {
     "data": {
      "text/html": [
       "<div>\n",
       "<style scoped>\n",
       "    .dataframe tbody tr th:only-of-type {\n",
       "        vertical-align: middle;\n",
       "    }\n",
       "\n",
       "    .dataframe tbody tr th {\n",
       "        vertical-align: top;\n",
       "    }\n",
       "\n",
       "    .dataframe thead th {\n",
       "        text-align: right;\n",
       "    }\n",
       "</style>\n",
       "<table border=\"1\" class=\"dataframe\">\n",
       "  <thead>\n",
       "    <tr style=\"text-align: right;\">\n",
       "      <th></th>\n",
       "      <th>symboling</th>\n",
       "      <th>normalized-losses</th>\n",
       "      <th>make</th>\n",
       "      <th>fuel-type</th>\n",
       "      <th>aspiration</th>\n",
       "      <th>num-of-doors</th>\n",
       "      <th>body-style</th>\n",
       "      <th>drive-wheels</th>\n",
       "      <th>engine-location</th>\n",
       "      <th>wheel-base</th>\n",
       "      <th>length</th>\n",
       "      <th>width</th>\n",
       "      <th>height</th>\n",
       "      <th>curb-weight</th>\n",
       "      <th>engine-type</th>\n",
       "      <th>num-of-cylinders</th>\n",
       "      <th>engine-size</th>\n",
       "      <th>fuel-system</th>\n",
       "      <th>bore</th>\n",
       "      <th>stroke</th>\n",
       "      <th>compression-rate</th>\n",
       "      <th>horsepower</th>\n",
       "      <th>peak-rpm</th>\n",
       "      <th>city-mpg</th>\n",
       "      <th>highway-mpg</th>\n",
       "      <th>price</th>\n",
       "    </tr>\n",
       "  </thead>\n",
       "  <tbody>\n",
       "    <tr>\n",
       "      <th>0</th>\n",
       "      <td>3</td>\n",
       "      <td>?</td>\n",
       "      <td>alfa-romero</td>\n",
       "      <td>gas</td>\n",
       "      <td>std</td>\n",
       "      <td>two</td>\n",
       "      <td>convertible</td>\n",
       "      <td>rwd</td>\n",
       "      <td>front</td>\n",
       "      <td>88.6</td>\n",
       "      <td>168.8</td>\n",
       "      <td>64.1</td>\n",
       "      <td>48.8</td>\n",
       "      <td>2548</td>\n",
       "      <td>dohc</td>\n",
       "      <td>four</td>\n",
       "      <td>130</td>\n",
       "      <td>mpfi</td>\n",
       "      <td>3.47</td>\n",
       "      <td>2.68</td>\n",
       "      <td>9.0</td>\n",
       "      <td>111</td>\n",
       "      <td>5000</td>\n",
       "      <td>21</td>\n",
       "      <td>27</td>\n",
       "      <td>13495</td>\n",
       "    </tr>\n",
       "    <tr>\n",
       "      <th>1</th>\n",
       "      <td>3</td>\n",
       "      <td>?</td>\n",
       "      <td>alfa-romero</td>\n",
       "      <td>gas</td>\n",
       "      <td>std</td>\n",
       "      <td>two</td>\n",
       "      <td>convertible</td>\n",
       "      <td>rwd</td>\n",
       "      <td>front</td>\n",
       "      <td>88.6</td>\n",
       "      <td>168.8</td>\n",
       "      <td>64.1</td>\n",
       "      <td>48.8</td>\n",
       "      <td>2548</td>\n",
       "      <td>dohc</td>\n",
       "      <td>four</td>\n",
       "      <td>130</td>\n",
       "      <td>mpfi</td>\n",
       "      <td>3.47</td>\n",
       "      <td>2.68</td>\n",
       "      <td>9.0</td>\n",
       "      <td>111</td>\n",
       "      <td>5000</td>\n",
       "      <td>21</td>\n",
       "      <td>27</td>\n",
       "      <td>16500</td>\n",
       "    </tr>\n",
       "    <tr>\n",
       "      <th>2</th>\n",
       "      <td>1</td>\n",
       "      <td>?</td>\n",
       "      <td>alfa-romero</td>\n",
       "      <td>gas</td>\n",
       "      <td>std</td>\n",
       "      <td>two</td>\n",
       "      <td>hatchback</td>\n",
       "      <td>rwd</td>\n",
       "      <td>front</td>\n",
       "      <td>94.5</td>\n",
       "      <td>171.2</td>\n",
       "      <td>65.5</td>\n",
       "      <td>52.4</td>\n",
       "      <td>2823</td>\n",
       "      <td>ohcv</td>\n",
       "      <td>six</td>\n",
       "      <td>152</td>\n",
       "      <td>mpfi</td>\n",
       "      <td>2.68</td>\n",
       "      <td>3.47</td>\n",
       "      <td>9.0</td>\n",
       "      <td>154</td>\n",
       "      <td>5000</td>\n",
       "      <td>19</td>\n",
       "      <td>26</td>\n",
       "      <td>16500</td>\n",
       "    </tr>\n",
       "    <tr>\n",
       "      <th>3</th>\n",
       "      <td>2</td>\n",
       "      <td>164</td>\n",
       "      <td>audi</td>\n",
       "      <td>gas</td>\n",
       "      <td>std</td>\n",
       "      <td>four</td>\n",
       "      <td>sedan</td>\n",
       "      <td>fwd</td>\n",
       "      <td>front</td>\n",
       "      <td>99.8</td>\n",
       "      <td>176.6</td>\n",
       "      <td>66.2</td>\n",
       "      <td>54.3</td>\n",
       "      <td>2337</td>\n",
       "      <td>ohc</td>\n",
       "      <td>four</td>\n",
       "      <td>109</td>\n",
       "      <td>mpfi</td>\n",
       "      <td>3.19</td>\n",
       "      <td>3.40</td>\n",
       "      <td>10.0</td>\n",
       "      <td>102</td>\n",
       "      <td>5500</td>\n",
       "      <td>24</td>\n",
       "      <td>30</td>\n",
       "      <td>13950</td>\n",
       "    </tr>\n",
       "    <tr>\n",
       "      <th>4</th>\n",
       "      <td>2</td>\n",
       "      <td>164</td>\n",
       "      <td>audi</td>\n",
       "      <td>gas</td>\n",
       "      <td>std</td>\n",
       "      <td>four</td>\n",
       "      <td>sedan</td>\n",
       "      <td>4wd</td>\n",
       "      <td>front</td>\n",
       "      <td>99.4</td>\n",
       "      <td>176.6</td>\n",
       "      <td>66.4</td>\n",
       "      <td>54.3</td>\n",
       "      <td>2824</td>\n",
       "      <td>ohc</td>\n",
       "      <td>five</td>\n",
       "      <td>136</td>\n",
       "      <td>mpfi</td>\n",
       "      <td>3.19</td>\n",
       "      <td>3.40</td>\n",
       "      <td>8.0</td>\n",
       "      <td>115</td>\n",
       "      <td>5500</td>\n",
       "      <td>18</td>\n",
       "      <td>22</td>\n",
       "      <td>17450</td>\n",
       "    </tr>\n",
       "  </tbody>\n",
       "</table>\n",
       "</div>"
      ],
      "text/plain": [
       "   symboling normalized-losses         make fuel-type aspiration num-of-doors  \\\n",
       "0          3                 ?  alfa-romero       gas        std          two   \n",
       "1          3                 ?  alfa-romero       gas        std          two   \n",
       "2          1                 ?  alfa-romero       gas        std          two   \n",
       "3          2               164         audi       gas        std         four   \n",
       "4          2               164         audi       gas        std         four   \n",
       "\n",
       "    body-style drive-wheels engine-location  wheel-base  length  width  \\\n",
       "0  convertible          rwd           front        88.6   168.8   64.1   \n",
       "1  convertible          rwd           front        88.6   168.8   64.1   \n",
       "2    hatchback          rwd           front        94.5   171.2   65.5   \n",
       "3        sedan          fwd           front        99.8   176.6   66.2   \n",
       "4        sedan          4wd           front        99.4   176.6   66.4   \n",
       "\n",
       "   height  curb-weight engine-type num-of-cylinders  engine-size fuel-system  \\\n",
       "0    48.8         2548        dohc             four          130        mpfi   \n",
       "1    48.8         2548        dohc             four          130        mpfi   \n",
       "2    52.4         2823        ohcv              six          152        mpfi   \n",
       "3    54.3         2337         ohc             four          109        mpfi   \n",
       "4    54.3         2824         ohc             five          136        mpfi   \n",
       "\n",
       "   bore stroke  compression-rate horsepower peak-rpm  city-mpg  highway-mpg  \\\n",
       "0  3.47   2.68               9.0        111     5000        21           27   \n",
       "1  3.47   2.68               9.0        111     5000        21           27   \n",
       "2  2.68   3.47               9.0        154     5000        19           26   \n",
       "3  3.19   3.40              10.0        102     5500        24           30   \n",
       "4  3.19   3.40               8.0        115     5500        18           22   \n",
       "\n",
       "   price  \n",
       "0  13495  \n",
       "1  16500  \n",
       "2  16500  \n",
       "3  13950  \n",
       "4  17450  "
      ]
     },
     "execution_count": 116,
     "metadata": {},
     "output_type": "execute_result"
    }
   ],
   "source": [
    "# import necessary libraries\n",
    "import pandas as pd\n",
    "import numpy as np\n",
    "import collections\n",
    "import matplotlib.pyplot as plt\n",
    "%matplotlib inline\n",
    "from sklearn.neighbors import KNeighborsRegressor\n",
    "from sklearn.metrics import mean_squared_error\n",
    "\n",
    "# enable pandas to show all columns\n",
    "pd.options.display.max_columns = 99\n",
    "\n",
    "\n",
    "# list of columns names\n",
    "columns = ['symboling', 'normalized-losses', 'make', 'fuel-type', 'aspiration',\n",
    "           'num-of-doors', 'body-style', 'drive-wheels', 'engine-location', 'wheel-base',\n",
    "           'length', 'width', 'height', 'curb-weight', 'engine-type', 'num-of-cylinders',\n",
    "           'engine-size', 'fuel-system', 'bore', 'stroke', 'compression-rate', 'horsepower',\n",
    "           'peak-rpm', 'city-mpg', 'highway-mpg', 'price']\n",
    "\n",
    "# read the dataset\n",
    "cars = pd.read_csv(\"imports-85.data\", names=columns)\n",
    "\n",
    "# check first few values\n",
    "cars.head()"
   ]
  },
  {
   "cell_type": "code",
   "execution_count": 117,
   "metadata": {
    "collapsed": false
   },
   "outputs": [
    {
     "data": {
      "text/plain": [
       "(205, 26)"
      ]
     },
     "execution_count": 117,
     "metadata": {},
     "output_type": "execute_result"
    }
   ],
   "source": [
    "# check columns and observations\n",
    "cars.shape"
   ]
  },
  {
   "cell_type": "markdown",
   "metadata": {},
   "source": [
    "## Data Cleaning\n",
    "\n",
    "Machine Learning algorithms can't treat missing values on their own. For that reason we need to treat missing values. From the output above we immediately can see that `normalized-losses` column contains missing values in the form of \"?\". We need to first replace \"?\" values with `numpy.nan` across the dataset. This will help us to easier convert other columns to required datatypes."
   ]
  },
  {
   "cell_type": "code",
   "execution_count": 118,
   "metadata": {
    "collapsed": false
   },
   "outputs": [],
   "source": [
    "# replace ? values with np.nan\n",
    "cars = cars.replace(\"?\", np.nan)"
   ]
  },
  {
   "cell_type": "code",
   "execution_count": 119,
   "metadata": {
    "collapsed": false,
    "scrolled": false
   },
   "outputs": [
    {
     "data": {
      "text/plain": [
       "symboling              int64\n",
       "normalized-losses     object\n",
       "make                  object\n",
       "fuel-type             object\n",
       "aspiration            object\n",
       "num-of-doors          object\n",
       "body-style            object\n",
       "drive-wheels          object\n",
       "engine-location       object\n",
       "wheel-base           float64\n",
       "length               float64\n",
       "width                float64\n",
       "height               float64\n",
       "curb-weight            int64\n",
       "engine-type           object\n",
       "num-of-cylinders      object\n",
       "engine-size            int64\n",
       "fuel-system           object\n",
       "bore                  object\n",
       "stroke                object\n",
       "compression-rate     float64\n",
       "horsepower            object\n",
       "peak-rpm              object\n",
       "city-mpg               int64\n",
       "highway-mpg            int64\n",
       "price                 object\n",
       "dtype: object"
      ]
     },
     "execution_count": 119,
     "metadata": {},
     "output_type": "execute_result"
    }
   ],
   "source": [
    "# check datatypes\n",
    "cars.dtypes"
   ]
  },
  {
   "cell_type": "markdown",
   "metadata": {},
   "source": [
    "Now that we have replaced the \"?\" values, let's convert columns containing `int` or `float` values to their correct data type"
   ]
  },
  {
   "cell_type": "code",
   "execution_count": 120,
   "metadata": {
    "collapsed": false
   },
   "outputs": [],
   "source": [
    "# list of columns to convert\n",
    "cols = [\"normalized-losses\",\"bore\",\"stroke\",\"horsepower\",\"peak-rpm\",\"price\"]\n",
    "\n",
    "# convert the values to their appropriate datatype\n",
    "for col in cols:\n",
    "    cars[col] = pd.to_numeric(cars[col], errors='coerce')"
   ]
  },
  {
   "cell_type": "markdown",
   "metadata": {
    "collapsed": true
   },
   "source": [
    "Rerun the datatypes cell to check if the conversion was successful.\n",
    "\n",
    "Now let's look at the columns which have these missing values and decide on how to handle them."
   ]
  },
  {
   "cell_type": "code",
   "execution_count": 121,
   "metadata": {
    "collapsed": false
   },
   "outputs": [
    {
     "data": {
      "text/plain": [
       "symboling             0\n",
       "normalized-losses    41\n",
       "make                  0\n",
       "fuel-type             0\n",
       "aspiration            0\n",
       "num-of-doors          2\n",
       "body-style            0\n",
       "drive-wheels          0\n",
       "engine-location       0\n",
       "wheel-base            0\n",
       "length                0\n",
       "width                 0\n",
       "height                0\n",
       "curb-weight           0\n",
       "engine-type           0\n",
       "num-of-cylinders      0\n",
       "engine-size           0\n",
       "fuel-system           0\n",
       "bore                  4\n",
       "stroke                4\n",
       "compression-rate      0\n",
       "horsepower            2\n",
       "peak-rpm              2\n",
       "city-mpg              0\n",
       "highway-mpg           0\n",
       "price                 4\n",
       "dtype: int64"
      ]
     },
     "execution_count": 121,
     "metadata": {},
     "output_type": "execute_result"
    }
   ],
   "source": [
    "# Check for missing values\n",
    "cars.isnull().sum()"
   ]
  },
  {
   "cell_type": "markdown",
   "metadata": {},
   "source": [
    "We can see that there are 41 null values out of 205 total records in `normalized-losses`. The missing values are 25% of all records. To handle this column entirely we can fill the missing values with the average value or drop the column entirely. We won't remove the missing rows since this is a big part of the dataset. To decide on this, let's check the distribution of values in the `normalized-losses`."
   ]
  },
  {
   "cell_type": "code",
   "execution_count": 122,
   "metadata": {
    "collapsed": false
   },
   "outputs": [
    {
     "data": {
      "text/plain": [
       "<matplotlib.axes._subplots.AxesSubplot at 0x7fe0bd339fd0>"
      ]
     },
     "execution_count": 122,
     "metadata": {},
     "output_type": "execute_result"
    },
    {
     "data": {
      "image/png": "[encoded data removed]",
      "text/plain": [
       "<matplotlib.figure.Figure at 0x7fe0bd04ff60>"
      ]
     },
     "metadata": {},
     "output_type": "display_data"
    }
   ],
   "source": [
    "cars['normalized-losses'].value_counts().plot(kind='bar', figsize=(16,8))"
   ]
  },
  {
   "cell_type": "markdown",
   "metadata": {},
   "source": [
    "We can see that the distribution for this column is right skewed. Thus we won't be imputing using average since this might skew our results and introduce bias into this column. One potential solution would be to use mean imputation after normalizing the column, which we will do."
   ]
  },
  {
   "cell_type": "code",
   "execution_count": 123,
   "metadata": {
    "collapsed": false
   },
   "outputs": [],
   "source": [
    "# normalize the column\n",
    "cars['normalized-losses'] = (cars['normalized-losses'] - cars['normalized-losses'].mean()) / cars['normalized-losses'].std()\n",
    "\n",
    "# impute with average value\n",
    "cars['normalized-losses'].fillna(cars['normalized-losses'].mean(), inplace=True)"
   ]
  },
  {
   "cell_type": "markdown",
   "metadata": {},
   "source": [
    "Rerun, the cell showing missing values to ensure that the imputation was successful. We can also observe that there are few missing values for columns such as `price`, `horsepower`, `peak-rpm`, `bore` and `stroke`. We will also normalize them and impute with average value."
   ]
  },
  {
   "cell_type": "code",
   "execution_count": 124,
   "metadata": {
    "collapsed": true
   },
   "outputs": [],
   "source": [
    "# columns to be treated as per above\n",
    "cols = ['bore', 'stroke', 'peak-rpm', 'horsepower', 'price']\n",
    "\n",
    "# normalize and fill missing values\n",
    "for col in cols:\n",
    "    cars[col] = (cars[col] - cars[col].mean()) / cars[col].std()\n",
    "    cars[col].fillna(cars[col].mean(), inplace=True)"
   ]
  },
  {
   "cell_type": "markdown",
   "metadata": {},
   "source": [
    "Rerun the cell generating null value count and make sure they are treated.\n",
    "\n",
    "## Univariate Model\n",
    "\n",
    "Now let's start with a univariate k-nearest neighbors model as part of our project for predicting car prices. Starting with simple models before moving to more complex models helps us structure your code workflow and understand the features better.\n",
    "\n",
    "To enhance and simplify our model testing workflow, we will create a function that encapsulates the training and simple validation process."
   ]
  },
  {
   "cell_type": "code",
   "execution_count": 125,
   "metadata": {
    "collapsed": false
   },
   "outputs": [],
   "source": [
    "# function to knn_model training and validation\n",
    "def knn_train_test(train_name, target_name, data):\n",
    "    # make a copy of the dataset\n",
    "    df = data.copy()\n",
    "    \n",
    "    # number of observations for split\n",
    "    obs = int(df.shape[0] / 2)\n",
    "    \n",
    "    # split the data into train and test\n",
    "    train_df = df.iloc[:obs]\n",
    "    test_df = df.iloc[obs:]\n",
    "    \n",
    "    # reshape the values since we have a single feature\n",
    "    train_data = train_df[train_name].values.reshape(-1, 1)\n",
    "    test_data = test_df[train_name].values.reshape(-1, 1)\n",
    "    \n",
    "    # instantiate  and fit the model\n",
    "    knn = KNeighborsRegressor()\n",
    "    knn.fit(train_data, train_df[target_name])\n",
    "    \n",
    "    # make predictions and evaluate\n",
    "    preds = knn.predict(test_data)\n",
    "    rmse = mean_squared_error(test_df[target_name], preds) ** (1/2)\n",
    "    \n",
    "    return rmse"
   ]
  },
  {
   "cell_type": "code",
   "execution_count": 126,
   "metadata": {
    "collapsed": false
   },
   "outputs": [
    {
     "data": {
      "text/plain": [
       "1.0768788918340664"
      ]
     },
     "execution_count": 126,
     "metadata": {},
     "output_type": "execute_result"
    }
   ],
   "source": [
    "# use the function to train a model on normalized-losses\n",
    "knn_train_test('normalized-losses', 'price', cars)"
   ]
  },
  {
   "cell_type": "markdown",
   "metadata": {
    "collapsed": true
   },
   "source": [
    "Resulting rmse is based on the model that uses only one feature `normalized-losses`. We can test additional features to see how our model performs."
   ]
  },
  {
   "cell_type": "code",
   "execution_count": 127,
   "metadata": {
    "collapsed": false
   },
   "outputs": [
    {
     "name": "stdout",
     "output_type": "stream",
     "text": [
      "RMSE for model with wheel-base: 1.214252890227465\n",
      "RMSE for model with length: 1.1107969135114395\n",
      "RMSE for model with width: 0.8581184488064216\n",
      "RMSE for model with height: 1.3712276576274274\n",
      "RMSE for model with curb-weight: 0.7526797743700095\n",
      "RMSE for model with engine-size: 0.6066522674323407\n",
      "RMSE for model with compression-rate: 0.9980929742948769\n",
      "RMSE for model with city-mpg: 0.6071818370617673\n",
      "RMSE for model with highway-mpg: 0.5904065996733864\n",
      "RMSE for model with horsepower: 0.6212450466337898\n",
      "RMSE for model with peak-rpm: 1.1696138374863996\n"
     ]
    }
   ],
   "source": [
    "# use numeric features\n",
    "numeric_features = ['wheel-base', 'length', 'width', 'height',\n",
    "                    'curb-weight', 'engine-size', 'compression-rate',\n",
    "                    'city-mpg', 'highway-mpg', 'horsepower', 'peak-rpm']\n",
    "\n",
    "# loop through models with individual feature\n",
    "for col in numeric_features:\n",
    "    result = knn_train_test(col, 'price', cars)\n",
    "    print(\"RMSE for model with {}: {}\".format(col, result))"
   ]
  },
  {
   "cell_type": "markdown",
   "metadata": {},
   "source": [
    "While the models above are not indicative of performance, but it seems that model with `city-mpg` feature has the lowest error on the model.\n",
    "\n",
    "Next, let's modify our function to accept a `k` parameter and rerun our univariate model with the above features to see the performance. We will use k values of `1`, `3`, `5`, `7` and `9` to see which model performs well."
   ]
  },
  {
   "cell_type": "code",
   "execution_count": 128,
   "metadata": {
    "collapsed": true
   },
   "outputs": [],
   "source": [
    "# function to knn_model training and validation - modified \n",
    "def knn_train_test(train_name, target_name, data, k=5):\n",
    "    # make a copy of the dataset\n",
    "    df = data.copy()\n",
    "    \n",
    "    # number of observations for split\n",
    "    obs = int(df.shape[0] / 2)\n",
    "    \n",
    "    # split the data into train and test\n",
    "    train_df = df.iloc[:obs]\n",
    "    test_df = df.iloc[obs:]\n",
    "    \n",
    "    # reshape the values since we have a single feature\n",
    "    train_data = train_df[train_name].values.reshape(-1, 1)\n",
    "    test_data = test_df[train_name].values.reshape(-1, 1)\n",
    "    \n",
    "    # instantiate  and fit the model\n",
    "    knn = KNeighborsRegressor(n_neighbors=k)\n",
    "    knn.fit(train_data, train_df[target_name])\n",
    "    \n",
    "    # make predictions and evaluate\n",
    "    preds = knn.predict(test_data)\n",
    "    rmse = mean_squared_error(test_df[target_name], preds) ** (1/2)\n",
    "    \n",
    "    return rmse"
   ]
  },
  {
   "cell_type": "code",
   "execution_count": 129,
   "metadata": {
    "collapsed": false
   },
   "outputs": [
    {
     "data": {
      "text/plain": [
       "{('city-mpg', 1): 0.672247401307514,\n",
       " ('city-mpg', 3): 0.6692599843503406,\n",
       " ('city-mpg', 5): 0.6071818370617673,\n",
       " ('city-mpg', 7): 0.5947058619062482,\n",
       " ('city-mpg', 9): 0.6184289881119851,\n",
       " ('compression-rate', 1): 0.9995557239010212,\n",
       " ('compression-rate', 3): 1.0014666665882759,\n",
       " ('compression-rate', 5): 0.9980929742948769,\n",
       " ('compression-rate', 7): 0.994312348888388,\n",
       " ('compression-rate', 9): 0.9657803897563202,\n",
       " ('curb-weight', 1): 0.8977925627200231,\n",
       " ('curb-weight', 3): 0.7810203611189004,\n",
       " ('curb-weight', 5): 0.7526797743700095,\n",
       " ('curb-weight', 7): 0.7273112573379618,\n",
       " ('curb-weight', 9): 0.6962953604831444,\n",
       " ('engine-size', 1): 0.711130777393697,\n",
       " ('engine-size', 3): 0.6670315366668025,\n",
       " ('engine-size', 5): 0.6066522674323407,\n",
       " ('engine-size', 7): 0.5846523661450151,\n",
       " ('engine-size', 9): 0.5470224273794155,\n",
       " ('height', 1): 1.835270961051065,\n",
       " ('height', 3): 1.4522475457196613,\n",
       " ('height', 5): 1.3712276576274274,\n",
       " ('height', 7): 1.2536105424726978,\n",
       " ('height', 9): 1.1799262400433599,\n",
       " ('highway-mpg', 1): 0.65226957297654,\n",
       " ('highway-mpg', 3): 0.5514192730892143,\n",
       " ('highway-mpg', 5): 0.5904065996733864,\n",
       " ('highway-mpg', 7): 0.5316220529521046,\n",
       " ('highway-mpg', 9): 0.5045969744641035,\n",
       " ('horsepower', 1): 0.7424499390187735,\n",
       " ('horsepower', 3): 0.751441782151203,\n",
       " ('horsepower', 5): 0.6212450466337898,\n",
       " ('horsepower', 7): 0.5678990997984015,\n",
       " ('horsepower', 9): 0.51029924508396,\n",
       " ('length', 1): 1.2582151367719674,\n",
       " ('length', 3): 1.164040684899018,\n",
       " ('length', 5): 1.1107969135114395,\n",
       " ('length', 7): 1.0788091491246363,\n",
       " ('length', 9): 0.9649699176225501,\n",
       " ('peak-rpm', 1): 1.2547163045227205,\n",
       " ('peak-rpm', 3): 1.1322701001836366,\n",
       " ('peak-rpm', 5): 1.1696138374863996,\n",
       " ('peak-rpm', 7): 1.1987345300306547,\n",
       " ('peak-rpm', 9): 1.1998145119829764,\n",
       " ('wheel-base', 1): 1.0200915246848115,\n",
       " ('wheel-base', 3): 1.1330559244770682,\n",
       " ('wheel-base', 5): 1.214252890227465,\n",
       " ('wheel-base', 7): 1.1050644625745172,\n",
       " ('wheel-base', 9): 1.0706582345927034,\n",
       " ('width', 1): 1.173235330629889,\n",
       " ('width', 3): 0.776724402613776,\n",
       " ('width', 5): 0.8581184488064216,\n",
       " ('width', 7): 0.7920962270887307,\n",
       " ('width', 9): 0.7818084447558675}"
      ]
     },
     "execution_count": 129,
     "metadata": {},
     "output_type": "execute_result"
    }
   ],
   "source": [
    "# use numeric features\n",
    "numeric_features = ['wheel-base', 'length', 'width', 'height',\n",
    "                    'curb-weight', 'engine-size', 'compression-rate',\n",
    "                    'city-mpg', 'highway-mpg', 'horsepower', 'peak-rpm']\n",
    "\n",
    "# dictionary to store model results\n",
    "lowest_rmse = {}\n",
    "\n",
    "# loop through models with individual feature\n",
    "for col in numeric_features:\n",
    "    for k in [1,3,5,7,9]:\n",
    "        result = knn_train_test(col, 'price', cars, k=k)\n",
    "        lowest_rmse[(col, k)] = result\n",
    "\n",
    "lowest_rmse"
   ]
  },
  {
   "cell_type": "markdown",
   "metadata": {},
   "source": [
    "We can observe that there are multiple univariate models with low rmse. Nevertheles, we can find out the one with smallest rmse."
   ]
  },
  {
   "cell_type": "code",
   "execution_count": 130,
   "metadata": {
    "collapsed": false
   },
   "outputs": [
    {
     "name": "stdout",
     "output_type": "stream",
     "text": [
      "Model with lowest rmse is based on feature:highway-mpg with k=9\n"
     ]
    }
   ],
   "source": [
    "# find the feature and k with minimum rmse\n",
    "minval = min(lowest_rmse.values())\n",
    "res = [k for k, v in res_dict.items() if v == minval]\n",
    "\n",
    "print(\"Model with lowest rmse is based on feature:{} with k={}\".format(res[0][0], res[0][1]))"
   ]
  },
  {
   "cell_type": "markdown",
   "metadata": {},
   "source": [
    "## Multivariate Model"
   ]
  },
  {
   "cell_type": "markdown",
   "metadata": {},
   "source": [
    "Let's modify the function we wrote to work with multiple columns."
   ]
  },
  {
   "cell_type": "code",
   "execution_count": 131,
   "metadata": {
    "collapsed": true
   },
   "outputs": [],
   "source": [
    "# function to knn_model training and validation\n",
    "# modified for multivariate modeling\n",
    "def knn_train_test(train_name, target_name, data, k=5):\n",
    "    # make a copy of the dataset\n",
    "    df = data.copy()\n",
    "    \n",
    "    # number of observations for split\n",
    "    obs = int(df.shape[0] / 2)\n",
    "    \n",
    "    if len(train_name) <= 1:\n",
    "        return \"Please provide a list of features\"\n",
    "    \n",
    "    # split the data into train and test\n",
    "    train_df = df.iloc[:obs]\n",
    "    test_df = df.iloc[obs:]\n",
    "    \n",
    "    # instantiate  and fit the model\n",
    "    knn = KNeighborsRegressor(n_neighbors=k)\n",
    "    knn.fit(train_df[train_name], train_df[target_name])\n",
    "    \n",
    "    # make predictions and evaluate\n",
    "    preds = knn.predict(test_df[train_name])\n",
    "    rmse = mean_squared_error(test_df[target_name], preds) ** (1/2)\n",
    "    \n",
    "    return rmse"
   ]
  },
  {
   "cell_type": "markdown",
   "metadata": {},
   "source": [
    "To test our new function, we will choose the best 2, 3, 4, 5 and 6 features sequentially from the univariate model exploration and train using the default value of k=5."
   ]
  },
  {
   "cell_type": "code",
   "execution_count": 132,
   "metadata": {
    "collapsed": false
   },
   "outputs": [
    {
     "name": "stdout",
     "output_type": "stream",
     "text": [
      "The model with ['highway-mpg', 'highway-mpg'] features has rmse:0.5904065996733864\n",
      "The model with ['highway-mpg', 'highway-mpg', 'horsepower'] features has rmse:0.6622571328368921\n",
      "The model with ['highway-mpg', 'highway-mpg', 'horsepower', 'engine-size'] features has rmse:0.5902520717106036\n",
      "The model with ['highway-mpg', 'highway-mpg', 'horsepower', 'engine-size', 'city-mpg'] features has rmse:0.5614448491361091\n",
      "The model with ['highway-mpg', 'highway-mpg', 'horsepower', 'engine-size', 'city-mpg', 'curb-weight'] features has rmse:0.7406898108805515\n"
     ]
    }
   ],
   "source": [
    "# features ordered by performance from univariate modeling\n",
    "features = ['highway-mpg', 'horsepower', 'engine-size',\n",
    "            'city-mpg', 'curb-weight']\n",
    "\n",
    "# starting feature set\n",
    "cols = features[:1]\n",
    "\n",
    "# iterate and add each feature to the next model\n",
    "for col in features:\n",
    "    # add the next feature\n",
    "    cols.append(col)\n",
    "    \n",
    "    # train the model\n",
    "    res = knn_train_test(cols, 'price', cars)\n",
    "    \n",
    "    # print the rmse\n",
    "    print(\"The model with {} features has rmse:{}\".format(cols,res))"
   ]
  },
  {
   "cell_type": "markdown",
   "metadata": {},
   "source": [
    "We can observe from the results above that the model with 5 features has the best rmse."
   ]
  },
  {
   "cell_type": "markdown",
   "metadata": {},
   "source": [
    "## Hyperparameter Tuning"
   ]
  },
  {
   "cell_type": "markdown",
   "metadata": {},
   "source": [
    "Last, but not least, we will perform hyperparameter tuning in order to find the best `k` parameter for our top 3 models from the last section. We will visualize the hyperparameter tuning for each model in order to find out the optimal set."
   ]
  },
  {
   "cell_type": "code",
   "execution_count": 133,
   "metadata": {
    "collapsed": false
   },
   "outputs": [],
   "source": [
    "# list of features of top models\n",
    "model1 = ['highway-mpg', 'highway-mpg', 'horsepower', 'engine-size', 'city-mpg']\n",
    "model2 = ['highway-mpg', 'highway-mpg']\n",
    "model3 = ['highway-mpg', 'highway-mpg', 'horsepower', 'engine-size']\n",
    "\n",
    "# dataframe to hold the results\n",
    "results = []\n",
    "\n",
    "# iterate through various k values\n",
    "for k in range(1,25):\n",
    "\n",
    "    # calculate the rmse for models\n",
    "    res1 = knn_train_test(model1, 'price', cars, k=k)\n",
    "    res2 = knn_train_test(model2, 'price', cars, k=k)\n",
    "    res3 = knn_train_test(model3, 'price', cars, k=k)\n",
    "    \n",
    "    # save the results to the df\n",
    "    results.append(['model1', k, res1])\n",
    "    results.append(['model2', k, res2])\n",
    "    results.append(['model3', k, res3])\n",
    "    \n",
    "# convert list of list to df\n",
    "df = pd.DataFrame(results, columns=['model', 'k', 'score'])"
   ]
  },
  {
   "cell_type": "code",
   "execution_count": 134,
   "metadata": {
    "collapsed": false
   },
   "outputs": [
    {
     "data": {
      "text/plain": [
       "model     object\n",
       "k          int64\n",
       "score    float64\n",
       "dtype: object"
      ]
     },
     "execution_count": 134,
     "metadata": {},
     "output_type": "execute_result"
    }
   ],
   "source": [
    "df.dtypes"
   ]
  },
  {
   "cell_type": "code",
   "execution_count": 140,
   "metadata": {
    "collapsed": false
   },
   "outputs": [
    {
     "name": "stderr",
     "output_type": "stream",
     "text": [
      "/dataquest/system/env/python3/lib/python3.4/site-packages/seaborn/categorical.py:1468: FutureWarning: remove_na is deprecated and is a private function. Do not use.\n",
      "  stat_data = remove_na(group_data[hue_mask])\n"
     ]
    },
    {
     "data": {
      "text/plain": [
       "<matplotlib.axes._subplots.AxesSubplot at 0x7fe0bcb2f2b0>"
      ]
     },
     "execution_count": 140,
     "metadata": {},
     "output_type": "execute_result"
    },
    {
     "data": {
      "image/png": "[encoded data removed]",
      "text/plain": [
       "<matplotlib.figure.Figure at 0x7fe0bcb5d208>"
      ]
     },
     "metadata": {},
     "output_type": "display_data"
    }
   ],
   "source": [
    "# visualize the results\n",
    "import seaborn as sns\n",
    "fig, ax = plt.subplots(figsize=(16,8))\n",
    "sns.barplot(x='k', y='score', hue='model', data=df)"
   ]
  },
  {
   "cell_type": "markdown",
   "metadata": {},
   "source": [
    "The bar chart displays the rmse for each model across k values. We can observe that model 2 has lower rmse consistently but all three models have lower rmse around k=12-14. We can also see that past k values of 15 the rmse started going up again and this indicates that our models started to overfit in for those k values. Nevertheless, k values around 12-14 seem like a good choice for the k parameter."
   ]
  },
  {
   "cell_type": "markdown",
   "metadata": {},
   "source": [
    "## Summary & Ideas\n",
    "\n",
    "In this project we build a knn classifier and trained both univariate and multivariate models with varying k values. Some ideas on improving our function are implementing k-fold cross validations since currently we are using half of the data to train and the other half for testing, we could improve the performance and accuracy of the model by implementing k-fold cross validation and choose the k value just as we did with k value for knn.\n",
    "\n",
    "That's it for this project. Feel free to leave your feedback and comments here below."
   ]
  },
  {
   "cell_type": "code",
   "execution_count": null,
   "metadata": {
    "collapsed": true
   },
   "outputs": [],
   "source": []
  }
 ],
 "metadata": {
  "kernelspec": {
   "display_name": "Python 3",
   "language": "python",
   "name": "python3"
  },
  "language_info": {
   "codemirror_mode": {
    "name": "ipython",
    "version": 3
   },
   "file_extension": ".py",
   "mimetype": "text/x-python",
   "name": "python",
   "nbconvert_exporter": "python",
   "pygments_lexer": "ipython3",
   "version": "3.4.3"
  }
 },
 "nbformat": 4,
 "nbformat_minor": 2
}
